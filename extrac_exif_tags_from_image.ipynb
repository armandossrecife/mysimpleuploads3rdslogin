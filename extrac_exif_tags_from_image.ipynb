{
  "nbformat": 4,
  "nbformat_minor": 0,
  "metadata": {
    "colab": {
      "provenance": [],
      "authorship_tag": "ABX9TyOwNXG1KuGFxgM5nx6hkTOr",
      "include_colab_link": true
    },
    "kernelspec": {
      "name": "python3",
      "display_name": "Python 3"
    },
    "language_info": {
      "name": "python"
    }
  },
  "cells": [
    {
      "cell_type": "markdown",
      "metadata": {
        "id": "view-in-github",
        "colab_type": "text"
      },
      "source": [
        "<a href=\"https://colab.research.google.com/github/armandossrecife/mysimpleuploads3rdslogin/blob/main/extrac_exif_tags_from_image.ipynb\" target=\"_parent\"><img src=\"https://colab.research.google.com/assets/colab-badge.svg\" alt=\"Open In Colab\"/></a>"
      ]
    },
    {
      "cell_type": "code",
      "source": [
        "!wget https://raw.githubusercontent.com/armandossrecife/teste/main/Software%20Engineer.jpeg"
      ],
      "metadata": {
        "colab": {
          "base_uri": "https://localhost:8080/"
        },
        "id": "hbVAOZAZpn7w",
        "outputId": "81729eab-7275-454c-f18e-1a154ec148da"
      },
      "execution_count": 2,
      "outputs": [
        {
          "output_type": "stream",
          "name": "stdout",
          "text": [
            "--2024-07-12 15:54:34--  https://raw.githubusercontent.com/armandossrecife/teste/main/Software%20Engineer.jpeg\n",
            "Resolving raw.githubusercontent.com (raw.githubusercontent.com)... 185.199.108.133, 185.199.109.133, 185.199.110.133, ...\n",
            "Connecting to raw.githubusercontent.com (raw.githubusercontent.com)|185.199.108.133|:443... connected.\n",
            "HTTP request sent, awaiting response... 200 OK\n",
            "Length: 144967 (142K) [image/jpeg]\n",
            "Saving to: ‘Software Engineer.jpeg’\n",
            "\n",
            "Software Engineer.j 100%[===================>] 141.57K  --.-KB/s    in 0.09s   \n",
            "\n",
            "2024-07-12 15:54:34 (1.57 MB/s) - ‘Software Engineer.jpeg’ saved [144967/144967]\n",
            "\n"
          ]
        }
      ]
    },
    {
      "cell_type": "code",
      "source": [
        "!wget https://raw.githubusercontent.com/armandossrecife/teste/main/defesadoutorado.jpg"
      ],
      "metadata": {
        "colab": {
          "base_uri": "https://localhost:8080/"
        },
        "id": "Ak57F84zqoNh",
        "outputId": "7b0bbef9-df8b-48c3-c7cb-956307e52b3e"
      },
      "execution_count": 4,
      "outputs": [
        {
          "output_type": "stream",
          "name": "stdout",
          "text": [
            "--2024-07-12 15:58:27--  https://raw.githubusercontent.com/armandossrecife/teste/main/defesadoutorado.jpg\n",
            "Resolving raw.githubusercontent.com (raw.githubusercontent.com)... 185.199.109.133, 185.199.108.133, 185.199.111.133, ...\n",
            "Connecting to raw.githubusercontent.com (raw.githubusercontent.com)|185.199.109.133|:443... connected.\n",
            "HTTP request sent, awaiting response... 200 OK\n",
            "Length: 279975 (273K) [image/jpeg]\n",
            "Saving to: ‘defesadoutorado.jpg’\n",
            "\n",
            "defesadoutorado.jpg 100%[===================>] 273.41K  --.-KB/s    in 0.1s    \n",
            "\n",
            "2024-07-12 15:58:27 (2.03 MB/s) - ‘defesadoutorado.jpg’ saved [279975/279975]\n",
            "\n"
          ]
        }
      ]
    },
    {
      "cell_type": "code",
      "execution_count": 1,
      "metadata": {
        "id": "X24XExBRpXU9"
      },
      "outputs": [],
      "source": [
        "from PIL import Image\n",
        "from PIL.ExifTags import TAGS"
      ]
    },
    {
      "cell_type": "code",
      "source": [
        "def get_image_metadata_exif_tags(image_path):\n",
        "  try:\n",
        "    with Image.open(image_path) as image:\n",
        "      exif_data = image._getexif()\n",
        "\n",
        "    # Convert Exif data dictionary to human-readable format\n",
        "    if exif_data:\n",
        "      metadata = {TAGS.get(key, key): value for key, value in exif_data.items()}\n",
        "      print(f\"Image Metadata for {image_path}:\\n\")\n",
        "      for key, value in metadata.items():\n",
        "        print(f\"{key}: {value}\")\n",
        "    else:\n",
        "      print(f\"No Exif data found in {image_path}\")\n",
        "  except OSError:\n",
        "    print(f\"Error opening image file: {image_path}\")\n"
      ],
      "metadata": {
        "id": "Ggs5BtC7q0-U"
      },
      "execution_count": 11,
      "outputs": []
    },
    {
      "cell_type": "code",
      "source": [
        "# Replace 'path/to/your/image.jpg' with the actual path to your image\n",
        "image_path1 = '/content/Software Engineer.jpeg'\n",
        "image_path2 = '/content/defesadoutorado.jpg'"
      ],
      "metadata": {
        "id": "ovH8ipClpmum"
      },
      "execution_count": 5,
      "outputs": []
    },
    {
      "cell_type": "code",
      "source": [
        "print(f\"Metadados: {image_path1}\")\n",
        "get_image_metadata_exif_tags(image_path=image_path1)"
      ],
      "metadata": {
        "colab": {
          "base_uri": "https://localhost:8080/"
        },
        "id": "XzTCqDBtq9Gx",
        "outputId": "d3a0a369-1c75-4f7d-bd66-c89888e07ce2"
      },
      "execution_count": 12,
      "outputs": [
        {
          "output_type": "stream",
          "name": "stdout",
          "text": [
            "Metadados: /content/Software Engineer.jpeg\n",
            "No Exif data found in /content/Software Engineer.jpeg\n"
          ]
        }
      ]
    },
    {
      "cell_type": "code",
      "source": [
        "print(f\"Metadados: {image_path2}\")\n",
        "get_image_metadata_exif_tags(image_path=image_path2)"
      ],
      "metadata": {
        "colab": {
          "base_uri": "https://localhost:8080/"
        },
        "id": "ribbUdB0q9g_",
        "outputId": "9129e60c-7692-4bde-9dd2-739683b530ab"
      },
      "execution_count": 13,
      "outputs": [
        {
          "output_type": "stream",
          "name": "stdout",
          "text": [
            "Metadados: /content/defesadoutorado.jpg\n",
            "Image Metadata for /content/defesadoutorado.jpg:\n",
            "\n",
            "ExifOffset: 122\n",
            "Software: Photos 4.0\n",
            "DateTime: 2024:05:24 18:45:15\n",
            "XResolution: 72.0\n",
            "YResolution: 72.0\n",
            "ColorSpace: 1\n",
            "ExifImageWidth: 960\n",
            "DateTimeOriginal: 2024:05:24 18:45:15\n",
            "DateTimeDigitized: 2024:05:24 18:45:15\n",
            "ExifImageHeight: 1280\n"
          ]
        }
      ]
    }
  ]
}