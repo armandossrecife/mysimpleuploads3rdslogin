{
  "nbformat": 4,
  "nbformat_minor": 0,
  "metadata": {
    "colab": {
      "provenance": [],
      "authorship_tag": "ABX9TyORLqbX47fPiFbomu1n4Sds",
      "include_colab_link": true
    },
    "kernelspec": {
      "name": "python3",
      "display_name": "Python 3"
    },
    "language_info": {
      "name": "python"
    }
  },
  "cells": [
    {
      "cell_type": "markdown",
      "metadata": {
        "id": "view-in-github",
        "colab_type": "text"
      },
      "source": [
        "<a href=\"https://colab.research.google.com/github/armandossrecife/mysimpleuploads3rdslogin/blob/main/extract_video_info.ipynb\" target=\"_parent\"><img src=\"https://colab.research.google.com/assets/colab-badge.svg\" alt=\"Open In Colab\"/></a>"
      ]
    },
    {
      "cell_type": "code",
      "source": [
        "!lsb_release -a"
      ],
      "metadata": {
        "colab": {
          "base_uri": "https://localhost:8080/"
        },
        "id": "lyfxK2CdQJAK",
        "outputId": "b09607cb-7e81-4bfb-cc45-85b1ab55f8e3"
      },
      "execution_count": 1,
      "outputs": [
        {
          "output_type": "stream",
          "name": "stdout",
          "text": [
            "No LSB modules are available.\n",
            "Distributor ID:\tUbuntu\n",
            "Description:\tUbuntu 22.04.3 LTS\n",
            "Release:\t22.04\n",
            "Codename:\tjammy\n"
          ]
        }
      ]
    },
    {
      "cell_type": "code",
      "source": [
        "!sudo apt update"
      ],
      "metadata": {
        "colab": {
          "base_uri": "https://localhost:8080/"
        },
        "id": "t9qkHk8xQPUU",
        "outputId": "373ae84a-4667-4e6c-ef32-40a6f4a47ab5"
      },
      "execution_count": 2,
      "outputs": [
        {
          "output_type": "stream",
          "name": "stdout",
          "text": [
            "\u001b[33m\r0% [Working]\u001b[0m\r            \rHit:1 https://developer.download.nvidia.com/compute/cuda/repos/ubuntu2204/x86_64  InRelease\n",
            "Get:2 https://cloud.r-project.org/bin/linux/ubuntu jammy-cran40/ InRelease [3,626 B]\n",
            "Get:3 http://security.ubuntu.com/ubuntu jammy-security InRelease [129 kB]\n",
            "Hit:4 http://archive.ubuntu.com/ubuntu jammy InRelease\n",
            "Get:5 http://archive.ubuntu.com/ubuntu jammy-updates InRelease [128 kB]\n",
            "Hit:6 https://ppa.launchpadcontent.net/c2d4u.team/c2d4u4.0+/ubuntu jammy InRelease\n",
            "Hit:7 https://ppa.launchpadcontent.net/deadsnakes/ppa/ubuntu jammy InRelease\n",
            "Hit:8 http://archive.ubuntu.com/ubuntu jammy-backports InRelease\n",
            "Get:9 http://security.ubuntu.com/ubuntu jammy-security/restricted amd64 Packages [2,601 kB]\n",
            "Get:10 https://ppa.launchpadcontent.net/graphics-drivers/ppa/ubuntu jammy InRelease [24.3 kB]\n",
            "Hit:11 https://ppa.launchpadcontent.net/ubuntugis/ppa/ubuntu jammy InRelease\n",
            "Get:12 http://archive.ubuntu.com/ubuntu jammy-updates/universe amd64 Packages [1,410 kB]\n",
            "Get:13 https://ppa.launchpadcontent.net/graphics-drivers/ppa/ubuntu jammy/main amd64 Packages [48.1 kB]\n",
            "Get:14 http://security.ubuntu.com/ubuntu jammy-security/main amd64 Packages [1,998 kB]\n",
            "Get:15 http://security.ubuntu.com/ubuntu jammy-security/universe amd64 Packages [1,127 kB]\n",
            "Get:16 http://archive.ubuntu.com/ubuntu jammy-updates/main amd64 Packages [2,263 kB]\n",
            "Get:17 http://archive.ubuntu.com/ubuntu jammy-updates/restricted amd64 Packages [2,674 kB]\n",
            "Fetched 12.4 MB in 3s (3,716 kB/s)\n",
            "Reading package lists... Done\n",
            "Building dependency tree... Done\n",
            "Reading state information... Done\n",
            "45 packages can be upgraded. Run 'apt list --upgradable' to see them.\n"
          ]
        }
      ]
    },
    {
      "cell_type": "code",
      "source": [
        "!sudo apt install ffmpeg"
      ],
      "metadata": {
        "colab": {
          "base_uri": "https://localhost:8080/"
        },
        "id": "0l99ZnYBQceq",
        "outputId": "1aaef4c6-08bf-4e96-e611-27c5b6e8a918"
      },
      "execution_count": 3,
      "outputs": [
        {
          "output_type": "stream",
          "name": "stdout",
          "text": [
            "Reading package lists... Done\n",
            "Building dependency tree... Done\n",
            "Reading state information... Done\n",
            "ffmpeg is already the newest version (7:4.4.2-0ubuntu0.22.04.1).\n",
            "0 upgraded, 0 newly installed, 0 to remove and 45 not upgraded.\n"
          ]
        }
      ]
    },
    {
      "cell_type": "code",
      "source": [
        "!pip install ffmpeg-python"
      ],
      "metadata": {
        "colab": {
          "base_uri": "https://localhost:8080/"
        },
        "id": "rRGAmV7nQ0h_",
        "outputId": "c10dddd1-5d1c-4ccb-c373-c85f3c2da0e7"
      },
      "execution_count": 7,
      "outputs": [
        {
          "output_type": "stream",
          "name": "stdout",
          "text": [
            "Collecting ffmpeg-python\n",
            "  Downloading ffmpeg_python-0.2.0-py3-none-any.whl (25 kB)\n",
            "Requirement already satisfied: future in /usr/local/lib/python3.10/dist-packages (from ffmpeg-python) (0.18.3)\n",
            "Installing collected packages: ffmpeg-python\n",
            "Successfully installed ffmpeg-python-0.2.0\n"
          ]
        }
      ]
    },
    {
      "cell_type": "code",
      "execution_count": 8,
      "metadata": {
        "id": "DIILyAPNQFR9"
      },
      "outputs": [],
      "source": [
        "import ffmpeg"
      ]
    },
    {
      "cell_type": "code",
      "source": [
        "!wget https://raw.githubusercontent.com/armandossrecife/teste/main/Adrienne.mp4"
      ],
      "metadata": {
        "colab": {
          "base_uri": "https://localhost:8080/"
        },
        "id": "qPaqaQbIRDbi",
        "outputId": "98c8b683-764e-4d67-e550-98942a691a3d"
      },
      "execution_count": 9,
      "outputs": [
        {
          "output_type": "stream",
          "name": "stdout",
          "text": [
            "--2024-07-12 14:07:19--  https://raw.githubusercontent.com/armandossrecife/teste/main/Adrienne.mp4\n",
            "Resolving raw.githubusercontent.com (raw.githubusercontent.com)... 185.199.108.133, 185.199.109.133, 185.199.110.133, ...\n",
            "Connecting to raw.githubusercontent.com (raw.githubusercontent.com)|185.199.108.133|:443... connected.\n",
            "HTTP request sent, awaiting response... 200 OK\n",
            "Length: 14944332 (14M) [application/octet-stream]\n",
            "Saving to: ‘Adrienne.mp4’\n",
            "\n",
            "Adrienne.mp4        100%[===================>]  14.25M  --.-KB/s    in 0.09s   \n",
            "\n",
            "2024-07-12 14:07:20 (154 MB/s) - ‘Adrienne.mp4’ saved [14944332/14944332]\n",
            "\n"
          ]
        }
      ]
    },
    {
      "cell_type": "code",
      "source": [
        "video_file = 'Adrienne.mp4'\n",
        "stream = ffmpeg.input(video_file)\n",
        "stream = ffmpeg.hflip(stream)\n",
        "stream = ffmpeg.output(stream, video_file)"
      ],
      "metadata": {
        "id": "6vgDe7H7Qnv2"
      },
      "execution_count": 13,
      "outputs": []
    },
    {
      "cell_type": "code",
      "source": [
        "probe = ffmpeg.probe(video_file)\n",
        "probe"
      ],
      "metadata": {
        "colab": {
          "base_uri": "https://localhost:8080/"
        },
        "id": "YmuMRxupU_rp",
        "outputId": "a19a290f-e629-405c-9ff5-c8385fb4c8e6"
      },
      "execution_count": 15,
      "outputs": [
        {
          "output_type": "execute_result",
          "data": {
            "text/plain": [
              "{'streams': [{'index': 0,\n",
              "   'codec_name': 'h264',\n",
              "   'codec_long_name': 'H.264 / AVC / MPEG-4 AVC / MPEG-4 part 10',\n",
              "   'profile': 'Main',\n",
              "   'codec_type': 'video',\n",
              "   'codec_tag_string': 'avc1',\n",
              "   'codec_tag': '0x31637661',\n",
              "   'width': 480,\n",
              "   'height': 360,\n",
              "   'coded_width': 480,\n",
              "   'coded_height': 360,\n",
              "   'closed_captions': 0,\n",
              "   'has_b_frames': 1,\n",
              "   'sample_aspect_ratio': '1:1',\n",
              "   'display_aspect_ratio': '4:3',\n",
              "   'pix_fmt': 'yuv420p',\n",
              "   'level': 30,\n",
              "   'color_range': 'tv',\n",
              "   'color_space': 'bt709',\n",
              "   'color_transfer': 'bt709',\n",
              "   'color_primaries': 'bt709',\n",
              "   'chroma_location': 'left',\n",
              "   'refs': 1,\n",
              "   'is_avc': 'true',\n",
              "   'nal_length_size': '4',\n",
              "   'r_frame_rate': '30000/1001',\n",
              "   'avg_frame_rate': '30000/1001',\n",
              "   'time_base': '1/30000',\n",
              "   'start_pts': 0,\n",
              "   'start_time': '0.000000',\n",
              "   'duration_ts': 7180173,\n",
              "   'duration': '239.339100',\n",
              "   'bit_rate': '367418',\n",
              "   'bits_per_raw_sample': '8',\n",
              "   'nb_frames': '7173',\n",
              "   'disposition': {'default': 1,\n",
              "    'dub': 0,\n",
              "    'original': 0,\n",
              "    'comment': 0,\n",
              "    'lyrics': 0,\n",
              "    'karaoke': 0,\n",
              "    'forced': 0,\n",
              "    'hearing_impaired': 0,\n",
              "    'visual_impaired': 0,\n",
              "    'clean_effects': 0,\n",
              "    'attached_pic': 0,\n",
              "    'timed_thumbnails': 0},\n",
              "   'tags': {'creation_time': '2023-11-10T12:55:47.000000Z',\n",
              "    'language': 'und',\n",
              "    'handler_name': 'ISO Media file produced by Google Inc. Created on: 11/10/2023.',\n",
              "    'vendor_id': '[0][0][0][0]'}},\n",
              "  {'index': 1,\n",
              "   'codec_name': 'aac',\n",
              "   'codec_long_name': 'AAC (Advanced Audio Coding)',\n",
              "   'profile': 'LC',\n",
              "   'codec_type': 'audio',\n",
              "   'codec_tag_string': 'mp4a',\n",
              "   'codec_tag': '0x6134706d',\n",
              "   'sample_fmt': 'fltp',\n",
              "   'sample_rate': '44100',\n",
              "   'channels': 2,\n",
              "   'channel_layout': 'stereo',\n",
              "   'bits_per_sample': 0,\n",
              "   'r_frame_rate': '0/0',\n",
              "   'avg_frame_rate': '0/0',\n",
              "   'time_base': '1/44100',\n",
              "   'start_pts': 0,\n",
              "   'start_time': '0.000000',\n",
              "   'duration_ts': 10555392,\n",
              "   'duration': '239.351293',\n",
              "   'bit_rate': '128010',\n",
              "   'nb_frames': '10308',\n",
              "   'disposition': {'default': 1,\n",
              "    'dub': 0,\n",
              "    'original': 0,\n",
              "    'comment': 0,\n",
              "    'lyrics': 0,\n",
              "    'karaoke': 0,\n",
              "    'forced': 0,\n",
              "    'hearing_impaired': 0,\n",
              "    'visual_impaired': 0,\n",
              "    'clean_effects': 0,\n",
              "    'attached_pic': 0,\n",
              "    'timed_thumbnails': 0},\n",
              "   'tags': {'creation_time': '2023-11-10T12:55:47.000000Z',\n",
              "    'language': 'und',\n",
              "    'handler_name': 'ISO Media file produced by Google Inc. Created on: 11/10/2023.',\n",
              "    'vendor_id': '[0][0][0][0]'}}],\n",
              " 'format': {'filename': 'Adrienne.mp4',\n",
              "  'nb_streams': 2,\n",
              "  'nb_programs': 0,\n",
              "  'format_name': 'mov,mp4,m4a,3gp,3g2,mj2',\n",
              "  'format_long_name': 'QuickTime / MOV',\n",
              "  'start_time': '0.000000',\n",
              "  'duration': '239.351267',\n",
              "  'size': '14944332',\n",
              "  'bit_rate': '499494',\n",
              "  'probe_score': 100,\n",
              "  'tags': {'major_brand': 'mp42',\n",
              "   'minor_version': '0',\n",
              "   'compatible_brands': 'isommp42',\n",
              "   'creation_time': '2023-11-10T12:55:47.000000Z'}}}"
            ]
          },
          "metadata": {},
          "execution_count": 15
        }
      ]
    },
    {
      "cell_type": "code",
      "source": [],
      "metadata": {
        "id": "9dFDFb-mXKiW"
      },
      "execution_count": null,
      "outputs": []
    }
  ]
}